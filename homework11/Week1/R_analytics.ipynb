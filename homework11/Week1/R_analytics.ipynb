{
 "cells": [
  {
   "cell_type": "code",
   "execution_count": 4,
   "metadata": {},
   "outputs": [],
   "source": [
    "data <- read.csv('adult.data.csv')"
   ]
  },
  {
   "cell_type": "code",
   "execution_count": 3,
   "metadata": {},
   "outputs": [
    {
     "data": {
      "text/html": [
       "<table>\n",
       "<thead><tr><th scope=col>age</th><th scope=col>workclass</th><th scope=col>fnlwgt</th><th scope=col>education</th><th scope=col>education.num</th><th scope=col>marital.status</th><th scope=col>occupation</th><th scope=col>relationship</th><th scope=col>race</th><th scope=col>sex</th><th scope=col>capital.gain</th><th scope=col>capital.loss</th><th scope=col>hours.per.week</th><th scope=col>native.country</th><th scope=col>salary</th></tr></thead>\n",
       "<tbody>\n",
       "\t<tr><td>39                                                        </td><td><span style=white-space:pre-wrap>State-gov       </span>  </td><td> 77516                                                    </td><td>Bachelors                                                 </td><td>13                                                        </td><td><span style=white-space:pre-wrap>Never-married     </span></td><td><span style=white-space:pre-wrap>Adm-clerical     </span> </td><td>Not-in-family                                             </td><td>White                                                     </td><td><span style=white-space:pre-wrap>Male  </span>            </td><td>2174                                                      </td><td>0                                                         </td><td>40                                                        </td><td>United-States                                             </td><td>&lt;=50K                                                  </td></tr>\n",
       "\t<tr><td>50                                                       </td><td>Self-emp-not-inc                                         </td><td> 83311                                                   </td><td>Bachelors                                                </td><td>13                                                       </td><td>Married-civ-spouse                                       </td><td><span style=white-space:pre-wrap>Exec-managerial  </span></td><td><span style=white-space:pre-wrap>Husband      </span>    </td><td>White                                                    </td><td><span style=white-space:pre-wrap>Male  </span>           </td><td><span style=white-space:pre-wrap>   0</span>             </td><td>0                                                        </td><td>13                                                       </td><td>United-States                                            </td><td>&lt;=50K                                                 </td></tr>\n",
       "\t<tr><td>38                                                        </td><td><span style=white-space:pre-wrap>Private         </span>  </td><td>215646                                                    </td><td><span style=white-space:pre-wrap>HS-grad  </span>         </td><td> 9                                                        </td><td><span style=white-space:pre-wrap>Divorced          </span></td><td>Handlers-cleaners                                         </td><td>Not-in-family                                             </td><td>White                                                     </td><td><span style=white-space:pre-wrap>Male  </span>            </td><td><span style=white-space:pre-wrap>   0</span>              </td><td>0                                                         </td><td>40                                                        </td><td>United-States                                             </td><td>&lt;=50K                                                  </td></tr>\n",
       "\t<tr><td>53                                                      </td><td><span style=white-space:pre-wrap>Private         </span></td><td>234721                                                  </td><td><span style=white-space:pre-wrap>11th     </span>       </td><td> 7                                                      </td><td>Married-civ-spouse                                      </td><td>Handlers-cleaners                                       </td><td><span style=white-space:pre-wrap>Husband      </span>   </td><td>Black                                                   </td><td><span style=white-space:pre-wrap>Male  </span>          </td><td><span style=white-space:pre-wrap>   0</span>            </td><td>0                                                       </td><td>40                                                      </td><td>United-States                                           </td><td>&lt;=50K                                                </td></tr>\n",
       "\t<tr><td>28                                                       </td><td><span style=white-space:pre-wrap>Private         </span> </td><td>338409                                                   </td><td>Bachelors                                                </td><td>13                                                       </td><td>Married-civ-spouse                                       </td><td><span style=white-space:pre-wrap>Prof-specialty   </span></td><td><span style=white-space:pre-wrap>Wife         </span>    </td><td>Black                                                    </td><td>Female                                                   </td><td><span style=white-space:pre-wrap>   0</span>             </td><td>0                                                        </td><td>40                                                       </td><td><span style=white-space:pre-wrap>Cuba         </span>    </td><td>&lt;=50K                                                 </td></tr>\n",
       "\t<tr><td>37                                                       </td><td><span style=white-space:pre-wrap>Private         </span> </td><td>284582                                                   </td><td><span style=white-space:pre-wrap>Masters  </span>        </td><td>14                                                       </td><td>Married-civ-spouse                                       </td><td><span style=white-space:pre-wrap>Exec-managerial  </span></td><td><span style=white-space:pre-wrap>Wife         </span>    </td><td>White                                                    </td><td>Female                                                   </td><td><span style=white-space:pre-wrap>   0</span>             </td><td>0                                                        </td><td>40                                                       </td><td>United-States                                            </td><td>&lt;=50K                                                 </td></tr>\n",
       "</tbody>\n",
       "</table>\n"
      ],
      "text/latex": [
       "\\begin{tabular}{r|lllllllllllllll}\n",
       " age & workclass & fnlwgt & education & education.num & marital.status & occupation & relationship & race & sex & capital.gain & capital.loss & hours.per.week & native.country & salary\\\\\n",
       "\\hline\n",
       "\t 39                 & State-gov          &  77516             & Bachelors          & 13                 & Never-married      & Adm-clerical       & Not-in-family      & White              & Male               & 2174               & 0                  & 40                 & United-States      & <=50K             \\\\\n",
       "\t 50                 & Self-emp-not-inc   &  83311             & Bachelors          & 13                 & Married-civ-spouse & Exec-managerial    & Husband            & White              & Male               &    0               & 0                  & 13                 & United-States      & <=50K             \\\\\n",
       "\t 38                 & Private            & 215646             & HS-grad            &  9                 & Divorced           & Handlers-cleaners  & Not-in-family      & White              & Male               &    0               & 0                  & 40                 & United-States      & <=50K             \\\\\n",
       "\t 53                 & Private            & 234721             & 11th               &  7                 & Married-civ-spouse & Handlers-cleaners  & Husband            & Black              & Male               &    0               & 0                  & 40                 & United-States      & <=50K             \\\\\n",
       "\t 28                 & Private            & 338409             & Bachelors          & 13                 & Married-civ-spouse & Prof-specialty     & Wife               & Black              & Female             &    0               & 0                  & 40                 & Cuba               & <=50K             \\\\\n",
       "\t 37                 & Private            & 284582             & Masters            & 14                 & Married-civ-spouse & Exec-managerial    & Wife               & White              & Female             &    0               & 0                  & 40                 & United-States      & <=50K             \\\\\n",
       "\\end{tabular}\n"
      ],
      "text/markdown": [
       "\n",
       "age | workclass | fnlwgt | education | education.num | marital.status | occupation | relationship | race | sex | capital.gain | capital.loss | hours.per.week | native.country | salary | \n",
       "|---|---|---|---|---|---|\n",
       "| 39                 | State-gov          |  77516             | Bachelors          | 13                 | Never-married      | Adm-clerical       | Not-in-family      | White              | Male               | 2174               | 0                  | 40                 | United-States      | <=50K              | \n",
       "| 50                 | Self-emp-not-inc   |  83311             | Bachelors          | 13                 | Married-civ-spouse | Exec-managerial    | Husband            | White              | Male               |    0               | 0                  | 13                 | United-States      | <=50K              | \n",
       "| 38                 | Private            | 215646             | HS-grad            |  9                 | Divorced           | Handlers-cleaners  | Not-in-family      | White              | Male               |    0               | 0                  | 40                 | United-States      | <=50K              | \n",
       "| 53                 | Private            | 234721             | 11th               |  7                 | Married-civ-spouse | Handlers-cleaners  | Husband            | Black              | Male               |    0               | 0                  | 40                 | United-States      | <=50K              | \n",
       "| 28                 | Private            | 338409             | Bachelors          | 13                 | Married-civ-spouse | Prof-specialty     | Wife               | Black              | Female             |    0               | 0                  | 40                 | Cuba               | <=50K              | \n",
       "| 37                 | Private            | 284582             | Masters            | 14                 | Married-civ-spouse | Exec-managerial    | Wife               | White              | Female             |    0               | 0                  | 40                 | United-States      | <=50K              | \n",
       "\n",
       "\n"
      ],
      "text/plain": [
       "  age workclass        fnlwgt education education.num marital.status    \n",
       "1 39  State-gov         77516 Bachelors 13            Never-married     \n",
       "2 50  Self-emp-not-inc  83311 Bachelors 13            Married-civ-spouse\n",
       "3 38  Private          215646 HS-grad    9            Divorced          \n",
       "4 53  Private          234721 11th       7            Married-civ-spouse\n",
       "5 28  Private          338409 Bachelors 13            Married-civ-spouse\n",
       "6 37  Private          284582 Masters   14            Married-civ-spouse\n",
       "  occupation        relationship  race  sex    capital.gain capital.loss\n",
       "1 Adm-clerical      Not-in-family White Male   2174         0           \n",
       "2 Exec-managerial   Husband       White Male      0         0           \n",
       "3 Handlers-cleaners Not-in-family White Male      0         0           \n",
       "4 Handlers-cleaners Husband       Black Male      0         0           \n",
       "5 Prof-specialty    Wife          Black Female    0         0           \n",
       "6 Exec-managerial   Wife          White Female    0         0           \n",
       "  hours.per.week native.country salary\n",
       "1 40             United-States  <=50K \n",
       "2 13             United-States  <=50K \n",
       "3 40             United-States  <=50K \n",
       "4 40             United-States  <=50K \n",
       "5 40             Cuba           <=50K \n",
       "6 40             United-States  <=50K "
      ]
     },
     "metadata": {},
     "output_type": "display_data"
    }
   ],
   "source": [
    "head(data)"
   ]
  },
  {
   "cell_type": "markdown",
   "metadata": {},
   "source": [
    "## 1. Сколько мужчин и женщин (признак sex) представлено в этом наборе данных?"
   ]
  },
  {
   "cell_type": "code",
   "execution_count": 32,
   "metadata": {},
   "outputs": [
    {
     "data": {
      "text/plain": [
       "\n",
       "Female   Male \n",
       " 10771  21790 "
      ]
     },
     "metadata": {},
     "output_type": "display_data"
    }
   ],
   "source": [
    "table(data$sex)"
   ]
  },
  {
   "cell_type": "markdown",
   "metadata": {},
   "source": [
    "## 2. Каков средний возраст (признак age) женщин?"
   ]
  },
  {
   "cell_type": "code",
   "execution_count": 33,
   "metadata": {},
   "outputs": [
    {
     "data": {
      "text/html": [
       "36.8582304335716"
      ],
      "text/latex": [
       "36.8582304335716"
      ],
      "text/markdown": [
       "36.8582304335716"
      ],
      "text/plain": [
       "[1] 36.85823"
      ]
     },
     "metadata": {},
     "output_type": "display_data"
    }
   ],
   "source": [
    "mean(data[data['sex'] == 'Female', 'age'])"
   ]
  },
  {
   "cell_type": "markdown",
   "metadata": {},
   "source": [
    "## 3. Какова доля граждан Германии (признак native-country)? "
   ]
  },
  {
   "cell_type": "code",
   "execution_count": 44,
   "metadata": {},
   "outputs": [
    {
     "data": {
      "text/html": [
       "<strong>Germany:</strong> 0.0042074874850281"
      ],
      "text/latex": [
       "\\textbf{Germany:} 0.0042074874850281"
      ],
      "text/markdown": [
       "**Germany:** 0.0042074874850281"
      ],
      "text/plain": [
       "    Germany \n",
       "0.004207487 "
      ]
     },
     "metadata": {},
     "output_type": "display_data"
    }
   ],
   "source": [
    "prop.table(table(data$native.country))['Germany']"
   ]
  },
  {
   "cell_type": "markdown",
   "metadata": {},
   "source": [
    "## 4-5. Каковы средние значения и среднеквадратичные отклонения возраста тех, кто получает более 50K в год (признак salary) и тех, кто получает менее 50K в год?"
   ]
  },
  {
   "cell_type": "code",
   "execution_count": 46,
   "metadata": {},
   "outputs": [
    {
     "data": {
      "text/html": [
       "44.2498405815585"
      ],
      "text/latex": [
       "44.2498405815585"
      ],
      "text/markdown": [
       "44.2498405815585"
      ],
      "text/plain": [
       "[1] 44.24984"
      ]
     },
     "metadata": {},
     "output_type": "display_data"
    },
    {
     "data": {
      "text/html": [
       "10.5190277198518"
      ],
      "text/latex": [
       "10.5190277198518"
      ],
      "text/markdown": [
       "10.5190277198518"
      ],
      "text/plain": [
       "[1] 10.51903"
      ]
     },
     "metadata": {},
     "output_type": "display_data"
    }
   ],
   "source": [
    "mean(data[data['salary'] == '>50K', 'age']); sd(data[data['salary'] == '>50K', 'age'])"
   ]
  },
  {
   "cell_type": "code",
   "execution_count": 47,
   "metadata": {},
   "outputs": [
    {
     "data": {
      "text/html": [
       "36.7837378640777"
      ],
      "text/latex": [
       "36.7837378640777"
      ],
      "text/markdown": [
       "36.7837378640777"
      ],
      "text/plain": [
       "[1] 36.78374"
      ]
     },
     "metadata": {},
     "output_type": "display_data"
    },
    {
     "data": {
      "text/html": [
       "14.0200884908249"
      ],
      "text/latex": [
       "14.0200884908249"
      ],
      "text/markdown": [
       "14.0200884908249"
      ],
      "text/plain": [
       "[1] 14.02009"
      ]
     },
     "metadata": {},
     "output_type": "display_data"
    }
   ],
   "source": [
    "mean(data[data['salary'] == '<=50K', 'age']); sd(data[data['salary'] == '<=50K', 'age'])"
   ]
  },
  {
   "cell_type": "markdown",
   "metadata": {},
   "source": [
    "## 6. Правда ли, что люди, которые получают больше 50k, имеют как минимум высшее образование? (признак education – Bachelors, Prof-school, Assoc-acdm, Assoc-voc, Masters или Doctorate)"
   ]
  },
  {
   "cell_type": "code",
   "execution_count": 48,
   "metadata": {},
   "outputs": [
    {
     "data": {
      "text/plain": [
       "       \n",
       "        10th 11th 12th 1st-4th 5th-6th 7th-8th  9th Assoc-acdm Assoc-voc\n",
       "  <=50K  871 1115  400     162     317     606  487        802      1021\n",
       "  >50K    62   60   33       6      16      40   27        265       361\n",
       "       \n",
       "        Bachelors Doctorate HS-grad Masters Preschool Prof-school Some-college\n",
       "  <=50K      3134       107    8826     764        51         153         5904\n",
       "  >50K       2221       306    1675     959         0         423         1387"
      ]
     },
     "metadata": {},
     "output_type": "display_data"
    }
   ],
   "source": [
    "table(data$salary, data$education)"
   ]
  },
  {
   "cell_type": "markdown",
   "metadata": {},
   "source": [
    "#### Нет, не правда! Из сводной таблицы видно, что высшее образование роли не играет."
   ]
  },
  {
   "cell_type": "markdown",
   "metadata": {},
   "source": [
    "## 7. Выведите статистику возраста для каждой расы (признак race) и каждого пола. Найдите таким образом максимальный возраст мужчин расы Amer-Indian-Eskimo."
   ]
  },
  {
   "cell_type": "code",
   "execution_count": 77,
   "metadata": {},
   "outputs": [
    {
     "name": "stderr",
     "output_type": "stream",
     "text": [
      "Adding missing grouping variables: `race`, `sex`\n"
     ]
    },
    {
     "data": {
      "text/html": [
       "<table>\n",
       "<thead><tr><th scope=col>race</th><th scope=col>sex</th><th scope=col>age</th></tr></thead>\n",
       "<tbody>\n",
       "\t<tr><td>Amer-Indian-Eskimo</td><td>Female            </td><td>80                </td></tr>\n",
       "\t<tr><td>Amer-Indian-Eskimo</td><td>Male              </td><td>82                </td></tr>\n",
       "\t<tr><td>Asian-Pac-Islander</td><td>Female            </td><td>75                </td></tr>\n",
       "\t<tr><td>Asian-Pac-Islander</td><td>Male              </td><td>90                </td></tr>\n",
       "\t<tr><td>Black             </td><td>Female            </td><td>90                </td></tr>\n",
       "\t<tr><td>Black             </td><td>Male              </td><td>90                </td></tr>\n",
       "\t<tr><td>Other             </td><td>Female            </td><td>74                </td></tr>\n",
       "\t<tr><td>Other             </td><td>Male              </td><td>77                </td></tr>\n",
       "\t<tr><td>White             </td><td>Female            </td><td>90                </td></tr>\n",
       "\t<tr><td>White             </td><td>Male              </td><td>90                </td></tr>\n",
       "</tbody>\n",
       "</table>\n"
      ],
      "text/latex": [
       "\\begin{tabular}{r|lll}\n",
       " race & sex & age\\\\\n",
       "\\hline\n",
       "\t Amer-Indian-Eskimo & Female             & 80                \\\\\n",
       "\t Amer-Indian-Eskimo & Male               & 82                \\\\\n",
       "\t Asian-Pac-Islander & Female             & 75                \\\\\n",
       "\t Asian-Pac-Islander & Male               & 90                \\\\\n",
       "\t Black              & Female             & 90                \\\\\n",
       "\t Black              & Male               & 90                \\\\\n",
       "\t Other              & Female             & 74                \\\\\n",
       "\t Other              & Male               & 77                \\\\\n",
       "\t White              & Female             & 90                \\\\\n",
       "\t White              & Male               & 90                \\\\\n",
       "\\end{tabular}\n"
      ],
      "text/markdown": [
       "\n",
       "race | sex | age | \n",
       "|---|---|---|---|---|---|---|---|---|---|\n",
       "| Amer-Indian-Eskimo | Female             | 80                 | \n",
       "| Amer-Indian-Eskimo | Male               | 82                 | \n",
       "| Asian-Pac-Islander | Female             | 75                 | \n",
       "| Asian-Pac-Islander | Male               | 90                 | \n",
       "| Black              | Female             | 90                 | \n",
       "| Black              | Male               | 90                 | \n",
       "| Other              | Female             | 74                 | \n",
       "| Other              | Male               | 77                 | \n",
       "| White              | Female             | 90                 | \n",
       "| White              | Male               | 90                 | \n",
       "\n",
       "\n"
      ],
      "text/plain": [
       "   race               sex    age\n",
       "1  Amer-Indian-Eskimo Female 80 \n",
       "2  Amer-Indian-Eskimo Male   82 \n",
       "3  Asian-Pac-Islander Female 75 \n",
       "4  Asian-Pac-Islander Male   90 \n",
       "5  Black              Female 90 \n",
       "6  Black              Male   90 \n",
       "7  Other              Female 74 \n",
       "8  Other              Male   77 \n",
       "9  White              Female 90 \n",
       "10 White              Male   90 "
      ]
     },
     "metadata": {},
     "output_type": "display_data"
    }
   ],
   "source": [
    "data %>% group_by(race, sex) %>% select(age) %>% summarise_all(funs(max))"
   ]
  },
  {
   "cell_type": "markdown",
   "metadata": {},
   "source": [
    "#### Его возраст - 82 года"
   ]
  },
  {
   "cell_type": "markdown",
   "metadata": {},
   "source": [
    "## 8. Среди кого больше доля зарабатывающих много (>50K): среди женатых или холостых мужчин (признак marital-status)? Женатыми считаем тех, у кого marital-status начинается с Married (Married-civ-spouse, Married-spouse-absent или Married-AF-spouse), остальных считаем холостыми."
   ]
  },
  {
   "cell_type": "code",
   "execution_count": null,
   "metadata": {},
   "outputs": [],
   "source": []
  },
  {
   "cell_type": "markdown",
   "metadata": {},
   "source": [
    "## 9. Какое максимальное число часов человек работает в неделю (признак hours-per-week)? Сколько людей работают такое количество часов и каков среди них процент зарабатывающих много?"
   ]
  },
  {
   "cell_type": "code",
   "execution_count": 54,
   "metadata": {},
   "outputs": [
    {
     "data": {
      "text/html": [
       "99"
      ],
      "text/latex": [
       "99"
      ],
      "text/markdown": [
       "99"
      ],
      "text/plain": [
       "[1] 99"
      ]
     },
     "metadata": {},
     "output_type": "display_data"
    }
   ],
   "source": [
    "max(data$hours.per.week)"
   ]
  },
  {
   "cell_type": "markdown",
   "metadata": {},
   "source": [
    "#### Максимальное число часов - 99"
   ]
  },
  {
   "cell_type": "code",
   "execution_count": 57,
   "metadata": {},
   "outputs": [
    {
     "data": {
      "text/html": [
       "<strong>99:</strong> 85"
      ],
      "text/latex": [
       "\\textbf{99:} 85"
      ],
      "text/markdown": [
       "**99:** 85"
      ],
      "text/plain": [
       "99 \n",
       "85 "
      ]
     },
     "metadata": {},
     "output_type": "display_data"
    }
   ],
   "source": [
    "table(data$hours.per.week)['99']"
   ]
  },
  {
   "cell_type": "code",
   "execution_count": 5,
   "metadata": {},
   "outputs": [
    {
     "data": {
      "text/plain": [
       "       \n",
       "               <=50K         >50K\n",
       "  FALSE 0.7573477473 0.2400417678\n",
       "  TRUE  0.0018426952 0.0007677897"
      ]
     },
     "metadata": {},
     "output_type": "display_data"
    }
   ],
   "source": [
    " prop.table(table(data$hours.per.week == 99, data$salary))"
   ]
  },
  {
   "cell_type": "markdown",
   "metadata": {},
   "source": [
    "## 10. Посчитайте среднее время работы (hours-per-week) зарабатывающих мало и много (salary) для каждой страны (native-country)."
   ]
  },
  {
   "cell_type": "code",
   "execution_count": 81,
   "metadata": {},
   "outputs": [
    {
     "name": "stderr",
     "output_type": "stream",
     "text": [
      "Adding missing grouping variables: `native.country`, `salary`\n"
     ]
    },
    {
     "data": {
      "text/html": [
       "<table>\n",
       "<thead><tr><th scope=col>native.country</th><th scope=col>salary</th><th scope=col>hours.per.week</th></tr></thead>\n",
       "<tbody>\n",
       "\t<tr><td><span style=white-space:pre-wrap>?                 </span></td><td>&lt;=50K                                                  </td><td>40.16476                                                  </td></tr>\n",
       "\t<tr><td><span style=white-space:pre-wrap>?                 </span></td><td>&gt;50K                                                   </td><td>45.54795                                                  </td></tr>\n",
       "\t<tr><td><span style=white-space:pre-wrap>Cambodia          </span></td><td>&lt;=50K                                                  </td><td>41.41667                                                  </td></tr>\n",
       "\t<tr><td><span style=white-space:pre-wrap>Cambodia          </span></td><td>&gt;50K                                                   </td><td>40.00000                                                  </td></tr>\n",
       "\t<tr><td><span style=white-space:pre-wrap>Canada            </span></td><td>&lt;=50K                                                  </td><td>37.91463                                                  </td></tr>\n",
       "\t<tr><td><span style=white-space:pre-wrap>Canada            </span></td><td>&gt;50K                                                   </td><td>45.64103                                                  </td></tr>\n",
       "\t<tr><td><span style=white-space:pre-wrap>China             </span></td><td>&lt;=50K                                                  </td><td>37.38182                                                  </td></tr>\n",
       "\t<tr><td><span style=white-space:pre-wrap>China             </span></td><td>&gt;50K                                                   </td><td>38.90000                                                  </td></tr>\n",
       "\t<tr><td><span style=white-space:pre-wrap>Columbia          </span></td><td>&lt;=50K                                                  </td><td>38.68421                                                  </td></tr>\n",
       "\t<tr><td><span style=white-space:pre-wrap>Columbia          </span></td><td>&gt;50K                                                   </td><td>50.00000                                                  </td></tr>\n",
       "\t<tr><td><span style=white-space:pre-wrap>Cuba              </span></td><td>&lt;=50K                                                  </td><td>37.98571                                                  </td></tr>\n",
       "\t<tr><td><span style=white-space:pre-wrap>Cuba              </span></td><td>&gt;50K                                                   </td><td>42.44000                                                  </td></tr>\n",
       "\t<tr><td>Dominican-Republic</td><td>&lt;=50K          </td><td>42.33824          </td></tr>\n",
       "\t<tr><td>Dominican-Republic</td><td>&gt;50K           </td><td>47.00000          </td></tr>\n",
       "\t<tr><td><span style=white-space:pre-wrap>Ecuador           </span></td><td>&lt;=50K                                                  </td><td>38.04167                                                  </td></tr>\n",
       "\t<tr><td><span style=white-space:pre-wrap>Ecuador           </span></td><td>&gt;50K                                                   </td><td>48.75000                                                  </td></tr>\n",
       "\t<tr><td><span style=white-space:pre-wrap>El-Salvador       </span></td><td>&lt;=50K                                                  </td><td>36.03093                                                  </td></tr>\n",
       "\t<tr><td><span style=white-space:pre-wrap>El-Salvador       </span></td><td>&gt;50K                                                   </td><td>45.00000                                                  </td></tr>\n",
       "\t<tr><td><span style=white-space:pre-wrap>England           </span></td><td>&lt;=50K                                                  </td><td>40.48333                                                  </td></tr>\n",
       "\t<tr><td><span style=white-space:pre-wrap>England           </span></td><td>&gt;50K                                                   </td><td>44.53333                                                  </td></tr>\n",
       "\t<tr><td><span style=white-space:pre-wrap>France            </span></td><td>&lt;=50K                                                  </td><td>41.05882                                                  </td></tr>\n",
       "\t<tr><td><span style=white-space:pre-wrap>France            </span></td><td>&gt;50K                                                   </td><td>50.75000                                                  </td></tr>\n",
       "\t<tr><td><span style=white-space:pre-wrap>Germany           </span></td><td>&lt;=50K                                                  </td><td>39.13978                                                  </td></tr>\n",
       "\t<tr><td><span style=white-space:pre-wrap>Germany           </span></td><td>&gt;50K                                                   </td><td>44.97727                                                  </td></tr>\n",
       "\t<tr><td><span style=white-space:pre-wrap>Greece            </span></td><td>&lt;=50K                                                  </td><td>41.80952                                                  </td></tr>\n",
       "\t<tr><td><span style=white-space:pre-wrap>Greece            </span></td><td>&gt;50K                                                   </td><td>50.62500                                                  </td></tr>\n",
       "\t<tr><td><span style=white-space:pre-wrap>Guatemala         </span></td><td>&lt;=50K                                                  </td><td>39.36066                                                  </td></tr>\n",
       "\t<tr><td><span style=white-space:pre-wrap>Guatemala         </span></td><td>&gt;50K                                                   </td><td>36.66667                                                  </td></tr>\n",
       "\t<tr><td><span style=white-space:pre-wrap>Haiti             </span></td><td>&lt;=50K                                                  </td><td>36.32500                                                  </td></tr>\n",
       "\t<tr><td><span style=white-space:pre-wrap>Haiti             </span></td><td>&gt;50K                                                   </td><td>42.75000                                                  </td></tr>\n",
       "\t<tr><td>⋮</td><td>⋮</td><td>⋮</td></tr>\n",
       "\t<tr><td><span style=white-space:pre-wrap>Mexico                    </span></td><td>&gt;50K                                                           </td><td>46.57576                                                          </td></tr>\n",
       "\t<tr><td><span style=white-space:pre-wrap>Nicaragua                 </span></td><td>&lt;=50K                                                          </td><td>36.09375                                                          </td></tr>\n",
       "\t<tr><td><span style=white-space:pre-wrap>Nicaragua                 </span></td><td>&gt;50K                                                           </td><td>37.50000                                                          </td></tr>\n",
       "\t<tr><td>Outlying-US(Guam-USVI-etc)</td><td>&lt;=50K                  </td><td>41.85714                  </td></tr>\n",
       "\t<tr><td><span style=white-space:pre-wrap>Peru                      </span></td><td>&lt;=50K                                                          </td><td>35.06897                                                          </td></tr>\n",
       "\t<tr><td><span style=white-space:pre-wrap>Peru                      </span></td><td>&gt;50K                                                           </td><td>40.00000                                                          </td></tr>\n",
       "\t<tr><td><span style=white-space:pre-wrap>Philippines               </span></td><td>&lt;=50K                                                          </td><td>38.06569                                                          </td></tr>\n",
       "\t<tr><td><span style=white-space:pre-wrap>Philippines               </span></td><td>&gt;50K                                                           </td><td>43.03279                                                          </td></tr>\n",
       "\t<tr><td><span style=white-space:pre-wrap>Poland                    </span></td><td>&lt;=50K                                                          </td><td>38.16667                                                          </td></tr>\n",
       "\t<tr><td><span style=white-space:pre-wrap>Poland                    </span></td><td>&gt;50K                                                           </td><td>39.00000                                                          </td></tr>\n",
       "\t<tr><td><span style=white-space:pre-wrap>Portugal                  </span></td><td>&lt;=50K                                                          </td><td>41.93939                                                          </td></tr>\n",
       "\t<tr><td><span style=white-space:pre-wrap>Portugal                  </span></td><td>&gt;50K                                                           </td><td>41.50000                                                          </td></tr>\n",
       "\t<tr><td><span style=white-space:pre-wrap>Puerto-Rico               </span></td><td>&lt;=50K                                                          </td><td>38.47059                                                          </td></tr>\n",
       "\t<tr><td><span style=white-space:pre-wrap>Puerto-Rico               </span></td><td>&gt;50K                                                           </td><td>39.41667                                                          </td></tr>\n",
       "\t<tr><td><span style=white-space:pre-wrap>Scotland                  </span></td><td>&lt;=50K                                                          </td><td>39.44444                                                          </td></tr>\n",
       "\t<tr><td><span style=white-space:pre-wrap>Scotland                  </span></td><td>&gt;50K                                                           </td><td>46.66667                                                          </td></tr>\n",
       "\t<tr><td><span style=white-space:pre-wrap>South                     </span></td><td>&lt;=50K                                                          </td><td>40.15625                                                          </td></tr>\n",
       "\t<tr><td><span style=white-space:pre-wrap>South                     </span></td><td>&gt;50K                                                           </td><td>51.43750                                                          </td></tr>\n",
       "\t<tr><td><span style=white-space:pre-wrap>Taiwan                    </span></td><td>&lt;=50K                                                          </td><td>33.77419                                                          </td></tr>\n",
       "\t<tr><td><span style=white-space:pre-wrap>Taiwan                    </span></td><td>&gt;50K                                                           </td><td>46.80000                                                          </td></tr>\n",
       "\t<tr><td><span style=white-space:pre-wrap>Thailand                  </span></td><td>&lt;=50K                                                          </td><td>42.86667                                                          </td></tr>\n",
       "\t<tr><td><span style=white-space:pre-wrap>Thailand                  </span></td><td>&gt;50K                                                           </td><td>58.33333                                                          </td></tr>\n",
       "\t<tr><td><span style=white-space:pre-wrap>Trinadad&amp;Tobago           </span></td><td>&lt;=50K                                                              </td><td>37.05882                                                              </td></tr>\n",
       "\t<tr><td><span style=white-space:pre-wrap>Trinadad&amp;Tobago           </span></td><td>&gt;50K                                                               </td><td>40.00000                                                              </td></tr>\n",
       "\t<tr><td><span style=white-space:pre-wrap>United-States             </span></td><td>&lt;=50K                                                          </td><td>38.79913                                                          </td></tr>\n",
       "\t<tr><td><span style=white-space:pre-wrap>United-States             </span></td><td>&gt;50K                                                           </td><td>45.50537                                                          </td></tr>\n",
       "\t<tr><td><span style=white-space:pre-wrap>Vietnam                   </span></td><td>&lt;=50K                                                          </td><td>37.19355                                                          </td></tr>\n",
       "\t<tr><td><span style=white-space:pre-wrap>Vietnam                   </span></td><td>&gt;50K                                                           </td><td>39.20000                                                          </td></tr>\n",
       "\t<tr><td><span style=white-space:pre-wrap>Yugoslavia                </span></td><td>&lt;=50K                                                          </td><td>41.60000                                                          </td></tr>\n",
       "\t<tr><td><span style=white-space:pre-wrap>Yugoslavia                </span></td><td>&gt;50K                                                           </td><td>49.50000                                                          </td></tr>\n",
       "</tbody>\n",
       "</table>\n"
      ],
      "text/latex": [
       "\\begin{tabular}{r|lll}\n",
       " native.country & salary & hours.per.week\\\\\n",
       "\\hline\n",
       "\t ?                  & <=50K              & 40.16476          \\\\\n",
       "\t ?                  & >50K               & 45.54795          \\\\\n",
       "\t Cambodia           & <=50K              & 41.41667          \\\\\n",
       "\t Cambodia           & >50K               & 40.00000          \\\\\n",
       "\t Canada             & <=50K              & 37.91463          \\\\\n",
       "\t Canada             & >50K               & 45.64103          \\\\\n",
       "\t China              & <=50K              & 37.38182          \\\\\n",
       "\t China              & >50K               & 38.90000          \\\\\n",
       "\t Columbia           & <=50K              & 38.68421          \\\\\n",
       "\t Columbia           & >50K               & 50.00000          \\\\\n",
       "\t Cuba               & <=50K              & 37.98571          \\\\\n",
       "\t Cuba               & >50K               & 42.44000          \\\\\n",
       "\t Dominican-Republic & <=50K              & 42.33824          \\\\\n",
       "\t Dominican-Republic & >50K               & 47.00000          \\\\\n",
       "\t Ecuador            & <=50K              & 38.04167          \\\\\n",
       "\t Ecuador            & >50K               & 48.75000          \\\\\n",
       "\t El-Salvador        & <=50K              & 36.03093          \\\\\n",
       "\t El-Salvador        & >50K               & 45.00000          \\\\\n",
       "\t England            & <=50K              & 40.48333          \\\\\n",
       "\t England            & >50K               & 44.53333          \\\\\n",
       "\t France             & <=50K              & 41.05882          \\\\\n",
       "\t France             & >50K               & 50.75000          \\\\\n",
       "\t Germany            & <=50K              & 39.13978          \\\\\n",
       "\t Germany            & >50K               & 44.97727          \\\\\n",
       "\t Greece             & <=50K              & 41.80952          \\\\\n",
       "\t Greece             & >50K               & 50.62500          \\\\\n",
       "\t Guatemala          & <=50K              & 39.36066          \\\\\n",
       "\t Guatemala          & >50K               & 36.66667          \\\\\n",
       "\t Haiti              & <=50K              & 36.32500          \\\\\n",
       "\t Haiti              & >50K               & 42.75000          \\\\\n",
       "\t ⋮ & ⋮ & ⋮\\\\\n",
       "\t Mexico                     & >50K                       & 46.57576                  \\\\\n",
       "\t Nicaragua                  & <=50K                      & 36.09375                  \\\\\n",
       "\t Nicaragua                  & >50K                       & 37.50000                  \\\\\n",
       "\t Outlying-US(Guam-USVI-etc) & <=50K                      & 41.85714                  \\\\\n",
       "\t Peru                       & <=50K                      & 35.06897                  \\\\\n",
       "\t Peru                       & >50K                       & 40.00000                  \\\\\n",
       "\t Philippines                & <=50K                      & 38.06569                  \\\\\n",
       "\t Philippines                & >50K                       & 43.03279                  \\\\\n",
       "\t Poland                     & <=50K                      & 38.16667                  \\\\\n",
       "\t Poland                     & >50K                       & 39.00000                  \\\\\n",
       "\t Portugal                   & <=50K                      & 41.93939                  \\\\\n",
       "\t Portugal                   & >50K                       & 41.50000                  \\\\\n",
       "\t Puerto-Rico                & <=50K                      & 38.47059                  \\\\\n",
       "\t Puerto-Rico                & >50K                       & 39.41667                  \\\\\n",
       "\t Scotland                   & <=50K                      & 39.44444                  \\\\\n",
       "\t Scotland                   & >50K                       & 46.66667                  \\\\\n",
       "\t South                      & <=50K                      & 40.15625                  \\\\\n",
       "\t South                      & >50K                       & 51.43750                  \\\\\n",
       "\t Taiwan                     & <=50K                      & 33.77419                  \\\\\n",
       "\t Taiwan                     & >50K                       & 46.80000                  \\\\\n",
       "\t Thailand                   & <=50K                      & 42.86667                  \\\\\n",
       "\t Thailand                   & >50K                       & 58.33333                  \\\\\n",
       "\t Trinadad\\&Tobago            & <=50K                        & 37.05882                    \\\\\n",
       "\t Trinadad\\&Tobago            & >50K                         & 40.00000                    \\\\\n",
       "\t United-States              & <=50K                      & 38.79913                  \\\\\n",
       "\t United-States              & >50K                       & 45.50537                  \\\\\n",
       "\t Vietnam                    & <=50K                      & 37.19355                  \\\\\n",
       "\t Vietnam                    & >50K                       & 39.20000                  \\\\\n",
       "\t Yugoslavia                 & <=50K                      & 41.60000                  \\\\\n",
       "\t Yugoslavia                 & >50K                       & 49.50000                  \\\\\n",
       "\\end{tabular}\n"
      ],
      "text/markdown": [
       "\n",
       "native.country | salary | hours.per.week | \n",
       "|---|---|---|---|---|---|---|---|---|---|---|---|---|---|---|---|---|---|---|---|---|---|---|---|---|---|---|---|---|---|---|---|---|---|---|---|---|---|---|---|---|---|---|---|---|---|---|---|---|---|---|---|---|---|---|---|---|---|---|---|---|\n",
       "| ?                  | <=50K              | 40.16476           | \n",
       "| ?                  | >50K               | 45.54795           | \n",
       "| Cambodia           | <=50K              | 41.41667           | \n",
       "| Cambodia           | >50K               | 40.00000           | \n",
       "| Canada             | <=50K              | 37.91463           | \n",
       "| Canada             | >50K               | 45.64103           | \n",
       "| China              | <=50K              | 37.38182           | \n",
       "| China              | >50K               | 38.90000           | \n",
       "| Columbia           | <=50K              | 38.68421           | \n",
       "| Columbia           | >50K               | 50.00000           | \n",
       "| Cuba               | <=50K              | 37.98571           | \n",
       "| Cuba               | >50K               | 42.44000           | \n",
       "| Dominican-Republic | <=50K              | 42.33824           | \n",
       "| Dominican-Republic | >50K               | 47.00000           | \n",
       "| Ecuador            | <=50K              | 38.04167           | \n",
       "| Ecuador            | >50K               | 48.75000           | \n",
       "| El-Salvador        | <=50K              | 36.03093           | \n",
       "| El-Salvador        | >50K               | 45.00000           | \n",
       "| England            | <=50K              | 40.48333           | \n",
       "| England            | >50K               | 44.53333           | \n",
       "| France             | <=50K              | 41.05882           | \n",
       "| France             | >50K               | 50.75000           | \n",
       "| Germany            | <=50K              | 39.13978           | \n",
       "| Germany            | >50K               | 44.97727           | \n",
       "| Greece             | <=50K              | 41.80952           | \n",
       "| Greece             | >50K               | 50.62500           | \n",
       "| Guatemala          | <=50K              | 39.36066           | \n",
       "| Guatemala          | >50K               | 36.66667           | \n",
       "| Haiti              | <=50K              | 36.32500           | \n",
       "| Haiti              | >50K               | 42.75000           | \n",
       "| ⋮ | ⋮ | ⋮ | \n",
       "| Mexico                     | >50K                       | 46.57576                   | \n",
       "| Nicaragua                  | <=50K                      | 36.09375                   | \n",
       "| Nicaragua                  | >50K                       | 37.50000                   | \n",
       "| Outlying-US(Guam-USVI-etc) | <=50K                      | 41.85714                   | \n",
       "| Peru                       | <=50K                      | 35.06897                   | \n",
       "| Peru                       | >50K                       | 40.00000                   | \n",
       "| Philippines                | <=50K                      | 38.06569                   | \n",
       "| Philippines                | >50K                       | 43.03279                   | \n",
       "| Poland                     | <=50K                      | 38.16667                   | \n",
       "| Poland                     | >50K                       | 39.00000                   | \n",
       "| Portugal                   | <=50K                      | 41.93939                   | \n",
       "| Portugal                   | >50K                       | 41.50000                   | \n",
       "| Puerto-Rico                | <=50K                      | 38.47059                   | \n",
       "| Puerto-Rico                | >50K                       | 39.41667                   | \n",
       "| Scotland                   | <=50K                      | 39.44444                   | \n",
       "| Scotland                   | >50K                       | 46.66667                   | \n",
       "| South                      | <=50K                      | 40.15625                   | \n",
       "| South                      | >50K                       | 51.43750                   | \n",
       "| Taiwan                     | <=50K                      | 33.77419                   | \n",
       "| Taiwan                     | >50K                       | 46.80000                   | \n",
       "| Thailand                   | <=50K                      | 42.86667                   | \n",
       "| Thailand                   | >50K                       | 58.33333                   | \n",
       "| Trinadad&Tobago            | <=50K                      | 37.05882                   | \n",
       "| Trinadad&Tobago            | >50K                       | 40.00000                   | \n",
       "| United-States              | <=50K                      | 38.79913                   | \n",
       "| United-States              | >50K                       | 45.50537                   | \n",
       "| Vietnam                    | <=50K                      | 37.19355                   | \n",
       "| Vietnam                    | >50K                       | 39.20000                   | \n",
       "| Yugoslavia                 | <=50K                      | 41.60000                   | \n",
       "| Yugoslavia                 | >50K                       | 49.50000                   | \n",
       "\n",
       "\n"
      ],
      "text/plain": [
       "   native.country             salary hours.per.week\n",
       "1  ?                          <=50K  40.16476      \n",
       "2  ?                          >50K   45.54795      \n",
       "3  Cambodia                   <=50K  41.41667      \n",
       "4  Cambodia                   >50K   40.00000      \n",
       "5  Canada                     <=50K  37.91463      \n",
       "6  Canada                     >50K   45.64103      \n",
       "7  China                      <=50K  37.38182      \n",
       "8  China                      >50K   38.90000      \n",
       "9  Columbia                   <=50K  38.68421      \n",
       "10 Columbia                   >50K   50.00000      \n",
       "11 Cuba                       <=50K  37.98571      \n",
       "12 Cuba                       >50K   42.44000      \n",
       "13 Dominican-Republic         <=50K  42.33824      \n",
       "14 Dominican-Republic         >50K   47.00000      \n",
       "15 Ecuador                    <=50K  38.04167      \n",
       "16 Ecuador                    >50K   48.75000      \n",
       "17 El-Salvador                <=50K  36.03093      \n",
       "18 El-Salvador                >50K   45.00000      \n",
       "19 England                    <=50K  40.48333      \n",
       "20 England                    >50K   44.53333      \n",
       "21 France                     <=50K  41.05882      \n",
       "22 France                     >50K   50.75000      \n",
       "23 Germany                    <=50K  39.13978      \n",
       "24 Germany                    >50K   44.97727      \n",
       "25 Greece                     <=50K  41.80952      \n",
       "26 Greece                     >50K   50.62500      \n",
       "27 Guatemala                  <=50K  39.36066      \n",
       "28 Guatemala                  >50K   36.66667      \n",
       "29 Haiti                      <=50K  36.32500      \n",
       "30 Haiti                      >50K   42.75000      \n",
       "⋮  ⋮                          ⋮      ⋮             \n",
       "53 Mexico                     >50K   46.57576      \n",
       "54 Nicaragua                  <=50K  36.09375      \n",
       "55 Nicaragua                  >50K   37.50000      \n",
       "56 Outlying-US(Guam-USVI-etc) <=50K  41.85714      \n",
       "57 Peru                       <=50K  35.06897      \n",
       "58 Peru                       >50K   40.00000      \n",
       "59 Philippines                <=50K  38.06569      \n",
       "60 Philippines                >50K   43.03279      \n",
       "61 Poland                     <=50K  38.16667      \n",
       "62 Poland                     >50K   39.00000      \n",
       "63 Portugal                   <=50K  41.93939      \n",
       "64 Portugal                   >50K   41.50000      \n",
       "65 Puerto-Rico                <=50K  38.47059      \n",
       "66 Puerto-Rico                >50K   39.41667      \n",
       "67 Scotland                   <=50K  39.44444      \n",
       "68 Scotland                   >50K   46.66667      \n",
       "69 South                      <=50K  40.15625      \n",
       "70 South                      >50K   51.43750      \n",
       "71 Taiwan                     <=50K  33.77419      \n",
       "72 Taiwan                     >50K   46.80000      \n",
       "73 Thailand                   <=50K  42.86667      \n",
       "74 Thailand                   >50K   58.33333      \n",
       "75 Trinadad&Tobago            <=50K  37.05882      \n",
       "76 Trinadad&Tobago            >50K   40.00000      \n",
       "77 United-States              <=50K  38.79913      \n",
       "78 United-States              >50K   45.50537      \n",
       "79 Vietnam                    <=50K  37.19355      \n",
       "80 Vietnam                    >50K   39.20000      \n",
       "81 Yugoslavia                 <=50K  41.60000      \n",
       "82 Yugoslavia                 >50K   49.50000      "
      ]
     },
     "metadata": {},
     "output_type": "display_data"
    }
   ],
   "source": [
    "data %>% group_by(native.country, salary) %>% select(hours.per.week) %>% summarise_all(funs(mean))"
   ]
  }
 ],
 "metadata": {
  "kernelspec": {
   "display_name": "R",
   "language": "R",
   "name": "ir"
  },
  "language_info": {
   "codemirror_mode": "r",
   "file_extension": ".r",
   "mimetype": "text/x-r-source",
   "name": "R",
   "pygments_lexer": "r",
   "version": "3.5.1"
  }
 },
 "nbformat": 4,
 "nbformat_minor": 2
}
